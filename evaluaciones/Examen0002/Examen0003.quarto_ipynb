{
  "cells": [
    {
      "cell_type": "markdown",
      "metadata": {},
      "source": [
        "---\n",
        "title: Procesamiento de Señales e Imágenes Médicas\n",
        "coursecode: PSIM-80\n",
        "date: 2024-10-21\n",
        "year: 2024\n",
        "period: 2\n",
        "timeallowed: Una Hora.\n",
        "openorclosed: Apuntes con caligrafía propia.\n",
        "permitted: NO se permite comunciación con compañeros ni préstamo de elementos.\n",
        "instructions: |\n",
        "   Responda cada pregunta según las instrucciones de la sección\n",
        "   \n",
        "   El examen consta de un total de **50** puntos.\n",
        "   \n",
        "studentinfo: true\n",
        "monofont: 'Source Code Pro'\n",
        "monofontoptions: \n",
        "  - Scale=0.55\n",
        "---"
      ],
      "id": "08b27c05"
    },
    {
      "cell_type": "code",
      "metadata": {},
      "source": [
        "#| echo: false\n",
        "#| eval: true\n",
        "#| output: true\n",
        "#| label: Carga Librerias\n",
        "import pydicom as pyimag1\n",
        "import cv2 as pyimag2\n",
        "import matplotlib.pyplot as pyimag3\n",
        "import numpy as pyimag4\n",
        "\n",
        "ruta = \"../../data/imagen_dicom.dcm\"\n",
        "angle = 45"
      ],
      "id": "Carga-Librerias",
      "execution_count": null,
      "outputs": []
    },
    {
      "cell_type": "markdown",
      "metadata": {},
      "source": [
        "## Sección Única. Preguntas con múltiple respuesta. (50 puntos)\n",
        "\n",
        "Responda las preguntas, teniendo en cuenta el siguiente fragmento de código"
      ],
      "id": "28fdf485"
    },
    {
      "cell_type": "code",
      "metadata": {},
      "source": [
        "#| echo: true\n",
        "#| eval: false\n",
        "#| output: false\n",
        "#| code-line-numbers: true\n",
        "#| label: Primera Sección\n",
        "\n",
        "data_imagen = pyimag1.dcmread(ruta)\n",
        "image = data_imagen.pixel_array\n",
        "pyimag3.imshow(image, cmap=\"gray\")\n",
        "pyimag3.axis(\"off\")\n",
        "\n",
        "kernel1 = (1 / 9) * pyimag4.array([[1, 1, 1], [1, 1, 1], [1, 1, 1]])\n",
        "kernel2 = pyimag4.array([[-1, -1, -1], [-1, 8, -1], [-1, -1, -1]])\n",
        "conv1 = pyimag2.filter2D(image, ddepth=-1, kernel=kernel1)\n",
        "conv1_normalized = pyimag2.normalize(conv1,\n",
        "                        None, \n",
        "                        0, \n",
        "                        255, \n",
        "                        pyimag2.NORM_MINMAX)\n",
        "conv2 = pyimag2.filter2D(image, ddepth=-1, kernel=kernel2)\n",
        "conv2_normalized = pyimag2.normalize(conv2,\n",
        "                        None, \n",
        "                        0, \n",
        "                        255, \n",
        "                        pyimag2.NORM_MINMAX)\n",
        "rows, cols = image.shape\n",
        "M = pyimag2.getRotationMatrix2D((cols//2, rows//2), angle, 1)\n",
        "transformed_image = pyimag2.warpAffine(image, M, (cols, rows))"
      ],
      "id": "Primera-Seccion",
      "execution_count": null,
      "outputs": []
    }
  ],
  "metadata": {
    "kernelspec": {
      "name": "python3",
      "language": "python",
      "display_name": "Python 3 (ipykernel)",
      "path": "/home/pablo/.local/share/jupyter/kernels/python3"
    }
  },
  "nbformat": 4,
  "nbformat_minor": 5
}