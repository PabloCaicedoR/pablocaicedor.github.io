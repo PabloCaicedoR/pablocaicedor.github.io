{
 "cells": [
  {
   "cell_type": "markdown",
   "metadata": {},
   "source": [
    "# Basic Concepts of Statistics, Probability and Python"
   ]
  },
  {
   "cell_type": "markdown",
   "metadata": {},
   "source": [
    "## Exercise 1: Mean and Median\n",
    "\n",
    "Write a Python program that calculates the mean and median of a list of numbers.\n",
    "\n",
    "\n",
    "\n"
   ]
  },
  {
   "cell_type": "code",
   "execution_count": null,
   "metadata": {},
   "outputs": [],
   "source": [
    "import statistics\n",
    "\n",
    "numbers = [1, 2, 3, 4, 5]\n",
    "mean = statistics.mean(numbers)\n",
    "median = statistics.median(numbers)\n",
    "print(\"Mean:\", mean)\n",
    "print(\"Median:\", median)"
   ]
  },
  {
   "cell_type": "markdown",
   "metadata": {},
   "source": [
    "## Exercise 2: Standard Deviation\n",
    "\n",
    "Write a Python program that calculates the standard deviation of a list of numbers."
   ]
  },
  {
   "cell_type": "code",
   "execution_count": null,
   "metadata": {},
   "outputs": [],
   "source": [
    "import statistics\n",
    "\n",
    "numbers = [1, 2, 3, 4, 5]\n",
    "std_dev = statistics.stdev(numbers)\n",
    "print(\"Standard Deviation:\", std_dev)"
   ]
  },
  {
   "cell_type": "markdown",
   "metadata": {},
   "source": [
    "## Exercise 3: Data Visualization\n",
    "\n",
    "Write a Python program that uses the matplotlib library to visualize a histogram of a list of numbers."
   ]
  },
  {
   "cell_type": "code",
   "execution_count": null,
   "metadata": {},
   "outputs": [],
   "source": [
    "import matplotlib.pyplot as plt\n",
    "\n",
    "numbers = [1, 2, 3, 4, 5]\n",
    "plt.hist(numbers, bins=5)\n",
    "plt.show()"
   ]
  },
  {
   "cell_type": "markdown",
   "metadata": {},
   "source": [
    "## Exercise 4: Probability Distribution\n",
    "\n",
    "Write a Python program that calculates the probability of an event occurring given a probability distribution (e.g. normal, binomial).\n",
    "\n"
   ]
  },
  {
   "cell_type": "code",
   "execution_count": null,
   "metadata": {},
   "outputs": [],
   "source": [
    "import scipy.stats as stats\n",
    "\n",
    "# Normal distribution\n",
    "mean, std_dev = 0, 1\n",
    "x = stats.norm.rvs(mean, std_dev, size=1000)\n",
    "print(\"Normal Distribution:\", x)\n",
    "\n",
    "# Binomial distribution\n",
    "n, p = 10, 0.5\n",
    "x = stats.binom.rvs(n, p, size=1000)\n",
    "print(\"Binomial Distribution:\", x)"
   ]
  },
  {
   "cell_type": "markdown",
   "metadata": {},
   "source": [
    "## Exercise 5: Conditional Probability\n",
    "\n",
    "Write a Python program that calculates the conditional probability of an event occurring given another event.\n",
    "\n"
   ]
  },
  {
   "cell_type": "code",
   "execution_count": null,
   "metadata": {},
   "outputs": [],
   "source": [
    "import scipy.stats as stats\n",
    "\n",
    "# Conditional probability of A given B\n",
    "p_A_given_B = stats.norm.cdf(1, loc=0, scale=1, conditional=True)\n",
    "print(\"Conditional Probability:\", p_A_given_B)"
   ]
  },
  {
   "cell_type": "markdown",
   "metadata": {},
   "source": [
    "## Exercise 6: Bayes' Theorem\n",
    "\n",
    "Write a Python program that applies Bayes' theorem to update the probability of a hypothesis given new evidence.\n",
    "\n"
   ]
  },
  {
   "cell_type": "code",
   "execution_count": null,
   "metadata": {},
   "outputs": [],
   "source": [
    "import scipy.stats as stats\n",
    "\n",
    "# Prior probability\n",
    "prior = stats.norm.pdf(0, loc=0, scale=1)\n",
    "\n",
    "# Likelihood\n",
    "likelihood = stats.norm.pdf(1, loc=0, scale=1)\n",
    "\n",
    "# Posterior probability\n",
    "posterior = prior * likelihood\n",
    "print(\"Posterior Probability:\", posterior)"
   ]
  },
  {
   "cell_type": "markdown",
   "metadata": {},
   "source": [
    "## Exercise 7: Correlation Coefficient\n",
    "Write a Python program that calculates the correlation coefficient between two lists of numbers.\n",
    "\n"
   ]
  },
  {
   "cell_type": "code",
   "execution_count": null,
   "metadata": {},
   "outputs": [],
   "source": [
    "import numpy as np\n",
    "\n",
    "x = np.array([1, 2, 3, 4, 5])\n",
    "y = np.array([2, 3, 5, 7, 11])\n",
    "corr_coef = np.corrcoef(x, y)[0, 1]\n",
    "print(\"Correlation Coefficient:\", corr_coef)"
   ]
  },
  {
   "cell_type": "markdown",
   "metadata": {},
   "source": [
    "## Exercise 8: Regression Analysis\n",
    "\n",
    "Write a Python program that performs a simple linear regression analysis on a dataset.\n",
    "\n"
   ]
  },
  {
   "cell_type": "code",
   "execution_count": 1,
   "metadata": {},
   "outputs": [
    {
     "name": "stdout",
     "output_type": "stream",
     "text": [
      "Regression Coefficient: [2.2]\n",
      "Intercept: -1.0000000000000018\n"
     ]
    }
   ],
   "source": [
    "import numpy as np\n",
    "from sklearn.linear_model import LinearRegression\n",
    "\n",
    "x = np.array([1, 2, 3, 4, 5]).reshape((-1, 1))\n",
    "y = np.array([2, 3, 5, 7, 11])\n",
    "\n",
    "model = LinearRegression().fit(x, y)\n",
    "print(\"Regression Coefficient:\", model.coef_)\n",
    "print(\"Intercept:\", model.intercept_)"
   ]
  },
  {
   "cell_type": "markdown",
   "metadata": {},
   "source": [
    "## Exercise 9: Random Number Generation\n",
    "\n",
    "Write a Python program that generates random numbers from a specified probability distribution (e.g. normal, uniform).\n",
    "\n"
   ]
  },
  {
   "cell_type": "code",
   "execution_count": null,
   "metadata": {},
   "outputs": [],
   "source": [
    "import numpy as np\n",
    "\n",
    "# Uniform distribution\n",
    "uniform = np.random.uniform(0, 1, size=10)\n",
    "print(\"Uniform Distribution:\", uniform)\n",
    "\n",
    "# Normal distribution\n",
    "normal = np.random.normal(0, 1, size=10)\n",
    "print(\"Normal Distribution:\", normal)"
   ]
  },
  {
   "cell_type": "markdown",
   "metadata": {},
   "source": [
    "## Exercise 10: Monte Carlo Simulation\n",
    "\n",
    "Write a Python program that uses Monte Carlo simulation to estimate the value of pi."
   ]
  },
  {
   "cell_type": "code",
   "execution_count": null,
   "metadata": {},
   "outputs": [],
   "source": [
    "import numpy as np\n",
    "\n",
    "\n",
    "def estimate_pi(num_samples):\n",
    "    x = np.random.uniform(-1, 1, size=num_samples)\n",
    "    y = np.random.uniform(-1, 1, size=num_samples)\n",
    "    inside_circle = x**2 + y**2 <= 1\n",
    "    return 4 * np.mean(inside_circle)\n",
    "\n",
    "\n",
    "num_samples = 1000000\n",
    "pi_estimate = estimate_pi(num_samples)\n",
    "print(\"Estimated Pi:\", pi_estimate)"
   ]
  }
 ],
 "metadata": {
  "kernelspec": {
   "display_name": "Python 3",
   "language": "python",
   "name": "python3"
  },
  "language_info": {
   "codemirror_mode": {
    "name": "ipython",
    "version": 3
   },
   "file_extension": ".py",
   "mimetype": "text/x-python",
   "name": "python",
   "nbconvert_exporter": "python",
   "pygments_lexer": "ipython3",
   "version": "3.12.4"
  }
 },
 "nbformat": 4,
 "nbformat_minor": 2
}
