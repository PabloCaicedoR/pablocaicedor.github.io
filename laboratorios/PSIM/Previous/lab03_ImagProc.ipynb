{
 "cells": [
  {
   "cell_type": "markdown",
   "metadata": {},
   "source": [
    "# Laboratorio 3: Carga de datos e Histograma"
   ]
  },
  {
   "cell_type": "markdown",
   "metadata": {},
   "source": [
    "1. Cargar el archivo [imagen_dicom.dcm](../../data/imagen_dicom.dcm) y almacenarlo en la variable var01.\n",
    "2. Cargar el archivo [imagen_nii.nii](../../data/imagen_nii.nii) y almacenarlo en la variable var02.\n",
    "3. Cargar el archivo [covid-4.png](../../data/COVID-4.png) y almacenarlo en la variable var03.\n",
    "4. Mostrar las variables: var01, var02, var03.\n",
    "5. Describir las dimensiones de cada una de las imagenes.\n",
    "6. Tomar la var03 y si tiene más de una dimensión, convertirla a imagen en escala de grises, con profundidad de intensidad de pixel de 8bits.\n",
    "7. Contar cuantos pixeles hay para cada valor de intensidad posible en la conversión en escala de grises de la variable var03. Mostrar estos valores en una gráfica de barras.\n",
    "8. Para el punto 7 solo puede utilizar la librería numpy.\n",
    "9. Para el punto 8 solo puede utilizar la librería matplotlib."
   ]
  },
  {
   "cell_type": "markdown",
   "metadata": {},
   "source": []
  }
 ],
 "metadata": {
  "kernelspec": {
   "display_name": "Python 3",
   "language": "python",
   "name": "python3"
  },
  "language_info": {
   "codemirror_mode": {
    "name": "ipython",
    "version": 3
   },
   "file_extension": ".py",
   "mimetype": "text/x-python",
   "name": "python",
   "nbconvert_exporter": "python",
   "pygments_lexer": "ipython3",
   "version": "3.10.12"
  }
 },
 "nbformat": 4,
 "nbformat_minor": 2
}
