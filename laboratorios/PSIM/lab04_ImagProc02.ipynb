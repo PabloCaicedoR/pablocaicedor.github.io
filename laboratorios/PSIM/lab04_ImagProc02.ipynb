{
 "cells": [
  {
   "cell_type": "markdown",
   "metadata": {},
   "source": [
    "# Algoritmos básicos de procesamiento de imágenes"
   ]
  },
  {
   "cell_type": "markdown",
   "metadata": {},
   "source": [
    "Usando la imagen [fresas.png](../../recursos/imagenes/Presentaciones/PSIM/imagen_fresas.png) la cual fue tomada de la página [Geeks for geeks](https://www.geeksforgeeks.org/matlab-intensity-transformation-operations-on-images/) resuelva las siguientes cuestiones."
   ]
  },
  {
   "cell_type": "markdown",
   "metadata": {},
   "source": [
    "1. Aplique las siguientes transformaciones y describa el efecto de cada transformación:\n",
    "   1. Transformación n-potencial con $1<n<2$\n",
    "   2. Transformación n-potencial con $0.5<n<1$\n",
    "   3. Transformación LOG (Logaritmo Natural)\n",
    "   4. Transformación exponencial\n",
    "   5. Describa en un diagrama de bloques el algoritmo necesario para realizar este tipo de transformaciones.\n",
    "   6. Investigue y desarrolle el algoritmo de la transformación $\\Gamma$. La información básica la puede encontrar [aqui](https://pablocaicedor.github.io/presentaciones/PSIM/Lect005_Imag_Proc_001.html#/basic-mathematic---pixel-intensity-2)\n",
    "\n",
    "Recuerde: Si una imagen queda completamente blanca o completamente negra, es probable que sea por mal manejo de rangos de intensidad"
   ]
  },
  {
   "cell_type": "markdown",
   "metadata": {},
   "source": [
    "2. Sea los siguientes kernels de convolución:\n",
    "   1. $\\begin{bmatrix}\n",
    "1 & 1 & 1 \\\\\n",
    "1 & -8 & 1 \\\\\n",
    "1 & 1 & 1 \n",
    "\\end{bmatrix}$\n",
    "\n",
    "   2. $\\begin{bmatrix}\n",
    "-1 & -1 & -1 \\\\\n",
    "-1 & 8 & -1 \\\\\n",
    "-1 & -1 & -1 \n",
    "\\end{bmatrix}$  \n",
    "\n",
    "Explique las siguientes cuestiones:\n",
    "\n",
    "   i) Investigue las formas de realizar la convolución con opencv.\n",
    "   \n",
    "   ii) Aplique cada uno de los kernels de convolución y compare los resultados.\n",
    "   \n",
    "   iii) Explique cuales son las respectivas resoluciónes de pixel de las imagenes resultantes así como su máximo y su mínimo."
   ]
  },
  {
   "cell_type": "markdown",
   "metadata": {},
   "source": [
    "3. Utilizando la imagen [radiografía](../../recursos/imagenes/Presentaciones/PSIM/female-chest-x-ray.jpg), aplique cada tipo de matriz afine presente en las [diapositivas de clase](https://pablocaicedor.github.io/presentaciones/PSIM/Lect005_Imag_Proc_001.html#/neighborhood-operations-5) "
   ]
  },
  {
   "cell_type": "markdown",
   "metadata": {},
   "source": [
    "4. Determinar proyecto final para PSIM.\n",
    "   1. Determinar el problema a resolver.\n",
    "   2. Determinar el objetivo a alcanzar\n",
    "   3. Determinar el dataset\n",
    "   \n",
    "Recuerde, en su proyecto final,  **NO** podrá hacer uso de algoritmos de machine learning."
   ]
  },
  {
   "cell_type": "markdown",
   "metadata": {},
   "source": []
  }
 ],
 "metadata": {
  "language_info": {
   "name": "python"
  }
 },
 "nbformat": 4,
 "nbformat_minor": 2
}
