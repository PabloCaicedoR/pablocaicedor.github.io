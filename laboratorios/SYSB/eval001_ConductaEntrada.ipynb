{
 "cells": [
  {
   "cell_type": "markdown",
   "metadata": {},
   "source": [
    "# Basic Concepts of Statistics, Probability and Python\n",
    "\n",
    "Create a Jupyter notebook and solve each exercise in an individual cell.\n",
    "\n",
    "Each team must submit the Jupyter notebook and defend it on February 4, 2025. The defense will be carried out by one of the team members chosen at random."
   ]
  },
  {
   "cell_type": "markdown",
   "metadata": {},
   "source": [
    "## Exercise 1: Mean and Median\n",
    "\n",
    "Write a Python program that calculates the mean and median of a list of numbers.\n",
    "\n",
    "\n",
    "\n"
   ]
  },
  {
   "cell_type": "code",
   "execution_count": null,
   "metadata": {},
   "outputs": [],
   "source": []
  },
  {
   "cell_type": "markdown",
   "metadata": {},
   "source": [
    "## Exercise 2: Standard Deviation\n",
    "\n",
    "Write a Python program that calculates the standard deviation of a list of numbers."
   ]
  },
  {
   "cell_type": "code",
   "execution_count": null,
   "metadata": {},
   "outputs": [],
   "source": []
  },
  {
   "cell_type": "markdown",
   "metadata": {},
   "source": [
    "## Exercise 3: Data Visualization\n",
    "\n",
    "Write a Python program that uses the matplotlib library to visualize a histogram of a list of numbers."
   ]
  },
  {
   "cell_type": "code",
   "execution_count": null,
   "metadata": {},
   "outputs": [],
   "source": []
  },
  {
   "cell_type": "markdown",
   "metadata": {},
   "source": [
    "## Exercise 4: Probability Distribution\n",
    "\n",
    "Write a Python program that calculates the probability of an event occurring given a probability distribution (e.g. normal, binomial).\n",
    "\n"
   ]
  },
  {
   "cell_type": "code",
   "execution_count": null,
   "metadata": {},
   "outputs": [],
   "source": []
  },
  {
   "cell_type": "markdown",
   "metadata": {},
   "source": [
    "## Exercise 5: Conditional Probability\n",
    "\n",
    "Write a Python program that calculates the conditional probability of an event occurring given another event.\n",
    "\n"
   ]
  },
  {
   "cell_type": "code",
   "execution_count": null,
   "metadata": {},
   "outputs": [],
   "source": []
  },
  {
   "cell_type": "markdown",
   "metadata": {},
   "source": [
    "## Exercise 6: Bayes' Theorem\n",
    "\n",
    "Write a Python program that applies Bayes' theorem to update the probability of a hypothesis given new evidence.\n",
    "\n"
   ]
  },
  {
   "cell_type": "code",
   "execution_count": null,
   "metadata": {},
   "outputs": [],
   "source": []
  },
  {
   "cell_type": "markdown",
   "metadata": {},
   "source": [
    "## Exercise 7: Correlation Coefficient\n",
    "Write a Python program that calculates the correlation coefficient between two lists of numbers.\n",
    "\n"
   ]
  },
  {
   "cell_type": "code",
   "execution_count": null,
   "metadata": {},
   "outputs": [],
   "source": []
  },
  {
   "cell_type": "markdown",
   "metadata": {},
   "source": [
    "## Exercise 8: Regression Analysis\n",
    "\n",
    "Write a Python program that performs a simple linear regression analysis on a dataset.\n",
    "\n"
   ]
  },
  {
   "cell_type": "code",
   "execution_count": null,
   "metadata": {},
   "outputs": [],
   "source": []
  },
  {
   "cell_type": "markdown",
   "metadata": {},
   "source": [
    "## Exercise 9: Random Number Generation\n",
    "\n",
    "Write a Python program that generates random numbers from a specified probability distribution (e.g. normal, uniform).\n",
    "\n"
   ]
  },
  {
   "cell_type": "code",
   "execution_count": null,
   "metadata": {},
   "outputs": [],
   "source": []
  },
  {
   "cell_type": "markdown",
   "metadata": {},
   "source": [
    "## Exercise 10:Function visualization - I\n",
    "\n",
    "Generate a python code that allows the visualization (in one figure) of the real (blue) part and the imaginary (red) part, magnitude (green) and phase of the following signals:\n",
    "$$f\\left(t\\right) = e^{-j10 \\pi t}$$\n",
    "$$g\\left(t\\right) = 10cos\\left(2 \\pi t\\right) + j10sin\\left(2 \\pi t\\right)$$\n",
    "\n",
    "The visualization mus be in the range $\\left[-10, 10\\right]$"
   ]
  },
  {
   "cell_type": "code",
   "execution_count": null,
   "metadata": {},
   "outputs": [],
   "source": []
  },
  {
   "cell_type": "markdown",
   "metadata": {},
   "source": [
    "# Exercise 11: Function visualizartion - II\n",
    "\n",
    "Generate a python code to show the following step function:\n",
    "\n",
    "$$f\\left(t\\right) = \n",
    "\\begin{cases}\n",
    "    -t & \\text{if }  -5 \\leq t \\leq 0, \\\\\n",
    "    t & \\text{if } 0 \\leq t \\leq 5, \\\\\n",
    "    0 & Otherwise\n",
    "    \n",
    "\\end{cases}\n",
    "$$\n",
    "\n",
    "The visualization mus be in the range $\\left[-10, 10\\right]$"
   ]
  },
  {
   "cell_type": "code",
   "execution_count": null,
   "metadata": {},
   "outputs": [],
   "source": []
  },
  {
   "cell_type": "markdown",
   "metadata": {},
   "source": [
    "# Exercise 12: Physionet database\n",
    "\n",
    "Download a record from the Physionet database EEG Signals from an RSVP Task (itrsvp) and create a script that enables the visualization of all the signals contained in the record. Make sure to use the correct amplitude and time units."
   ]
  },
  {
   "cell_type": "code",
   "execution_count": null,
   "metadata": {},
   "outputs": [],
   "source": []
  }
 ],
 "metadata": {
  "kernelspec": {
   "display_name": "Python 3",
   "language": "python",
   "name": "python3"
  },
  "language_info": {
   "name": "python",
   "version": "3.12.4"
  }
 },
 "nbformat": 4,
 "nbformat_minor": 2
}
