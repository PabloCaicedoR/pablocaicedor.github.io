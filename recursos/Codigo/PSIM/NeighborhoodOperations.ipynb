{
 "cells": [
  {
   "cell_type": "code",
   "execution_count": null,
   "id": "f65607eb",
   "metadata": {},
   "outputs": [],
   "source": [
    "def estadistica_descriptiva_imagen(inp01,b=8):\n",
    "  return np.mean(inp01), np.std(inp01), np.uint32(np.min(inp01)), np.uint32(np.max(inp01)), 100*((inp01.max() - inp01.min())/((2**b)-1))\n",
    "def histograma(inp01, b=8, mostrar=True):\n",
    "  intensidades = np.zeros(2**b)\n",
    "  for k in range(2**b):\n",
    "    intensidades[k] = np.count_nonzero(inp01 == k)\n",
    "\n",
    "  if mostrar:\n",
    "    fig = plt.figure(figsize=(12,8))\n",
    "    plt.plot(intensidades)\n",
    "    plt.xlabel(\"Intensidades\")\n",
    "    plt.ylabel(\"Frecuencia\")\n",
    "    plt.title(\"Histograma\")\n",
    "    plt.grid()\n",
    "    plt.show()\n",
    "  return intensidades, np.array(list(range(2**b)))"
   ]
  }
 ],
 "metadata": {
  "kernelspec": {
   "display_name": "ai-torch (3.12.11)",
   "language": "python",
   "name": "python3"
  },
  "language_info": {
   "name": "python",
   "version": "3.12.11"
  }
 },
 "nbformat": 4,
 "nbformat_minor": 5
}
