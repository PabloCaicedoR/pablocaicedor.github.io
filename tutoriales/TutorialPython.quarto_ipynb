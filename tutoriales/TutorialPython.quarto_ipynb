{
  "cells": [
    {
      "cell_type": "markdown",
      "metadata": {},
      "source": [
        "---\n",
        "title: \"Tutorial de Python\"\n",
        "subtitle: \"Tomado de Ciencia de Datos para Ciencias Naturale - Keilor Rojas\"\n",
        "description: \"Breve Tutorial de Python\"\n",
        "lang: es\n",
        "author: \"Ph.D. Pablo Eduardo Caicedo R.\"\n",
        "date: \"Febrero 6, 2023\"\n",
        "date-modified: \"Mayo 25, 2023\"\n",
        "image: \"../recursos/imagenes/tutoriales/python_programming/python_programming.jpg\"\n",
        "---\n",
        "\n",
        "# Google Colab\n",
        "\n",
        "Tomado del libro [Ciencia de Datos para Ciencias Naturales](https://bookdown.org/keilor_rojas/CienciaDatos/)\n",
        "\n",
        "Si no tiene experiencia con el lenguaje Markdown utilice esta [guía](https://www.markdownguide.org/basic-syntax/) para enriquecer sus celdas de texto.\n",
        "\n",
        "\n",
        "## Características\n",
        "\n",
        "- Plataforma de Google Research.\n",
        "- Permite a cualquier persona escribir y ejecutar código Python o R a través del navegador.\n",
        "- Se base se basa en la interfase de Jupyter Notebook.\n",
        "- Los documentos son denominados notebooks de Colab.\n",
        "- Los entornos son interactivos.\n",
        "- Permite la utilizar Python y R.\n",
        "- Manejo de celdas de código\n",
        "\n",
        "\n",
        "## Ventajas\n",
        "\n",
        "- No requiere configuración del programa.\n",
        "- La mayoría de librerías y programas ya están preinstalados.\n",
        "- Acceso gratuito a GPU, es decir, se ejecuta en los servidores de Google.\n",
        "- Facilidad para compartir documentos.\n",
        "\n",
        "## Desventajas de Colab\n",
        "\n",
        "- No se ejecuta sin conexión.\n",
        "- Conjuntos de datos que se importan al entorno sin ser montado desde Google Drive se perderán cuando la máquina virtual se apague.\n",
        "- Experiencia más sencilla que otras opciones.\n",
        "- Permite utilizar más lenguajes: Posgres, Julia.\n",
        "\n",
        "## Tipos de celdas\n",
        "\n",
        "- **Código:** Para abrir una celda de código simplemente haga click en la barra + Código. Para ejecutar el código puede presionar el símbolo de play a la izquierda de la celda o las teclas Cmd/Ctrl+Enter.\n",
        "- **Texto:** Para abrir una celda de texto simplemente haga click en la barra + Texto. Las celdas de texto utilizan la sintaxis de Markdown. Para ver el texto fuente de Markdown, haga doble click en una celda de texto.\n",
        "\n",
        "\n",
        "# Python\n",
        "\n",
        "\n",
        "Python es un lenguaje de programación de alto nivel, interpretado, multiparadigma y general-proposito. Su filosofia de diseno enfatiza la legibilidad del codigo. Es uno de los lenguajes de programacion mas populares en uso hoy en dia, y se utiliza para una amplia gama de aplicaciones, incluyendo desarrollo web, ciencia de datos, machine learning e inteligencia artificial.\n",
        "\n",
        "# Ventajas\n",
        "- Python es un lenguaje de programación multiparadigma, lo que significa que puede ser utilizado para diferentes tipos de programación, como la programación orientada a objetos, la programación imperativa y la programación funcional.\n",
        "- Python es un lenguaje de programación interpretado, lo que significa que no necesita ser compilado antes de ser ejecutado. Esto hace que Python sea muy rápido de desarrollar y depurar.\n",
        "- Python es un lenguaje de programación muy portable, lo que significa que puede ser ejecutado en diferentes plataformas, como Windows, Mac OS X y Linux. También puede ser ejecutado en la nube.\n",
        "- Python tiene una gran comunidad de usuarios y desarrolladores, lo que significa que hay muchos recursos disponibles para aprender y usar Python.\n",
        "\n",
        "# Desventajas\n",
        "- Python puede ser un poco más lento que los lenguajes compilados, como C o C++.\n",
        "- Python tiene una sintaxis un poco más compleja que algunos otros lenguajes de programación, como Java o JavaScript.\n",
        "- Python puede no ser el mejor lenguaje de programación para ciertos tipos de aplicaciones, como las aplicaciones de juegos o las aplicaciones de alto rendimiento.\n",
        "\n",
        "# Tipos básicos de variables en Python\n",
        "\n",
        "|         **Tipo**         | **Nombre** |             **Uso común**            |     **Ejemplo**     |\n",
        "|:------------------------:|:----------:|:------------------------------------:|:-------------------:|\n",
        "|     Entero o integer     |     int    |    Representar <br>números enteros   |     1,2,-3,4,...    |\n",
        "|         Flotante         |    float   |   Representar<br>números decimales   |   1.2,-3.1,4.5,...  |\n",
        "| Cadenas de<br>caracteres |     str    | Representar<br>palabras y caracteres | \"hola\",\"PYTHON\",... |\n",
        "|         Booleano         |    bool    |    Representar <br>datos binarios    | True, False         |\n",
        "\n",
        "La función *type()* permite determinar el tipo de variable.  \n",
        "La función *print()* muestra la variable."
      ],
      "id": "23a268ae"
    },
    {
      "cell_type": "code",
      "metadata": {},
      "source": [
        "x = 20\n",
        "print(\"El tipo de variable de X es:\", type(x))\n",
        "\n",
        "y = -5.1\n",
        "print(\"El tipo de variable de Y es:\", type(y))\n",
        "\n",
        "w = \"HOLA\"\n",
        "print(\"El tipo de variable de W es:\", type(w))\n",
        "\n",
        "v = True\n",
        "print(\"El tipo de variable de V es:\", type(v))"
      ],
      "id": "1563ba08",
      "execution_count": null,
      "outputs": []
    },
    {
      "cell_type": "markdown",
      "metadata": {},
      "source": [
        "# Operaciones con variables básicas\n",
        "\n",
        "## Strings"
      ],
      "id": "efe027b2"
    },
    {
      "cell_type": "code",
      "metadata": {},
      "source": [
        "cadena_caracteres = \" Diplomado en Analítica para la Banca \"\n",
        "\n",
        "#Tamaño de la cadena de caracteres\n",
        "print(len(cadena_caracteres))\n",
        "\n",
        "#Corte de variable\n",
        "print(cadena_caracteres[0:10])\n",
        "print(cadena_caracteres[20:30])\n",
        "\n",
        "#Convertir la variable a mayúsculas\n",
        "print(cadena_caracteres.upper())\n",
        "\n",
        "#Convertir la variable a minúscula\n",
        "print(cadena_caracteres.lower())\n",
        "\n",
        "#Contar cuantas veces aparece una cadena de caracteres\n",
        "print(cadena_caracteres.count(\"ca\"))\n",
        "\n",
        "#Reemplazar en una cadena, una letra con otra\n",
        "print(cadena_caracteres.replace(\"a\", \"0\"))\n",
        "\n",
        "#Partir la cadena de caracteres cada vez que se encuentre un caracter\n",
        "print(cadena_caracteres.split(\" \"))\n",
        "\n",
        "#Concatenar dos cadenas de caracteres\n",
        "cadena01 = \"Pablo Eduardo\"\n",
        "cadena02 = \"Caicedo Rodríguez\"\n",
        "print(cadena01+\" \"+cadena02)"
      ],
      "id": "f1c85a7c",
      "execution_count": null,
      "outputs": []
    },
    {
      "cell_type": "markdown",
      "metadata": {},
      "source": [
        "# Conversión de Datos"
      ],
      "id": "b96b953b"
    },
    {
      "cell_type": "code",
      "metadata": {},
      "source": [
        "#| eval: false\n",
        "edad = input(\"Cuál es tu edad?\")\n",
        "print(\"Tipo de la variable edad: %s\", type(edad))\n",
        "edad = int(edad)\n",
        "print(\"Tipo de la variable edad: %s\", type(edad))"
      ],
      "id": "1d147404",
      "execution_count": null,
      "outputs": []
    },
    {
      "cell_type": "markdown",
      "metadata": {},
      "source": [
        "# Operadores\n",
        "\n",
        "Son símbolos que indican al compilador o intérprete que es necesario ejecutar alguna manipulación de los datos. Existen operadores aritméticos (p.e. suma, resta, multiplicación), de comparación (p.e. menor que, mayor o igual que), lógicos (and, or, not) y de pertenencia (in, not in)."
      ],
      "id": "c2a583e2"
    },
    {
      "cell_type": "code",
      "metadata": {},
      "source": [
        "x = 5+6\n",
        "print(x)\n",
        "print('Hola'*3)\n",
        "5 <= -3\n",
        "c = 20\n",
        "print(((c < 90) or (c > 60)))\n",
        "nombre = \"Pablo Eduardo\"\n",
        "print(\"a\" in nombre)"
      ],
      "id": "ee8acda0",
      "execution_count": null,
      "outputs": []
    },
    {
      "cell_type": "markdown",
      "metadata": {},
      "source": [
        "# Estructura de datos\n",
        "\n",
        "Las estructuras de datos son formas de organización de los datos que permiten leerlos, manipularlos y establecer relaciones entre ellos. Entre las formas más comunes tenemos **listas**, **diccionarios** y **tuplas**.\n",
        "\n",
        "Las **listas** se tratan de colecciones de valores encerrados entre paréntesis cuadrados []. Son estructuras muy utilizadas en Python porque tienen mucha versatilidad. Al igual que los strings, tienen posiciones asignadas donde se puede verificar o incluso modificar su contenido con una gran cantidad de funciones disponibles. Las listas pueden tener distintos tipos de datos y pueden ser cambiadas en cualquier momento de la ejecución del programa.\n",
        "\n",
        "Los **diccionarios** constituyen otra forma de organización de los datos donde existe una clave y un valor asociado. Para definirlos se usa el símbolo {} y para diferenciar entre clave y valor se usa el símbolo :. La mayoría de funciones utilizadas para modificar listas, también pueden ser utilizadas con diccionarios.\n",
        "\n",
        "Las **tuplas** son otra forma de organizar los datos. Sin embargo, a diferencia de las listas y los diccionarios son inmutables, es decir, no se pueden modificar. Se definen entre paréntesis (). Su procesamiento es más rápido.\n",
        "\n",
        "## Listas"
      ],
      "id": "b7958659"
    },
    {
      "cell_type": "code",
      "metadata": {},
      "source": [
        "lista = [3, 2, 1, 0.5, \"hora del cafe\", \"torta chilena\", \"pinto\", \"jugo\"]\n",
        "print(lista)\n",
        "lista.append(\"empanadita\")\n",
        "print(lista)\n",
        "\"pinto\" in lista"
      ],
      "id": "5d64501f",
      "execution_count": null,
      "outputs": []
    },
    {
      "cell_type": "markdown",
      "metadata": {},
      "source": [
        "## Diccionarios"
      ],
      "id": "47240897"
    },
    {
      "cell_type": "code",
      "metadata": {},
      "source": [
        "tel = {'Maria': 4098, 'Jorge': 4139}\n",
        "print(tel)\n",
        "print(tel[\"Maria\"])\n",
        "print(tel.keys())\n",
        "print(tel.values)\n",
        "'Maria' in tel"
      ],
      "id": "1c2a3a79",
      "execution_count": null,
      "outputs": []
    },
    {
      "cell_type": "markdown",
      "metadata": {},
      "source": [
        "## Tuplas"
      ],
      "id": "a6152b16"
    },
    {
      "cell_type": "code",
      "metadata": {},
      "source": [
        "frutas = ('naranja', 'mango', 'sandia', 'banano', 'kiwi')\n",
        "print(type(frutas))\n",
        "frutas[1]"
      ],
      "id": "de12034d",
      "execution_count": null,
      "outputs": []
    },
    {
      "cell_type": "markdown",
      "metadata": {},
      "source": [
        "# Condicionales\n",
        "\n",
        "Son bloques de código que dependiendo de una condición se ejecutan o no. Los test condicionales usan la palabra clave if que tienen como resultado un valor booleano de true o false.\n",
        "\n",
        "Por supuesto, se puede complementar con operadores lógicos (“and” y “or”) para evaluar múltiples condiciones.\n",
        "\n",
        "Un aspecto importante de la estructura de condicionales es la identación. Este término se refiere a un tipo de notación que delimita la estructura del programa estableciendo bloques de código. En sencillo, es la inclusión de algunos espacios (sangría) en la segunda parte de cada condicional."
      ],
      "id": "eeb6ddac"
    },
    {
      "cell_type": "code",
      "metadata": {},
      "source": [
        "#| eval: false\n",
        "if si la siguiente condición es verdad:\n",
        "    realizar la siguiente acción\n",
        "#2\n",
        "if si la siguiente condición es verdad:\n",
        "    realizar esta acción\n",
        "else:\n",
        "  sino realizar una la siguiente alternativa\n",
        "#3\n",
        "if si la siguiente condición es verdad:\n",
        "  realizar esta acción\n",
        "\n",
        "elif si esta otra condición es verdad:\n",
        "  realizar esta acción alternativa\n",
        "else:\n",
        "  sino realizar esta otra acción alternativa"
      ],
      "id": "5b9ef091",
      "execution_count": null,
      "outputs": []
    },
    {
      "cell_type": "code",
      "metadata": {},
      "source": [
        "c=8\n",
        "if c>6:\n",
        "    c-=3 # c = c-3\n",
        "elif -2 < c < 4:\n",
        "    c**=2 # c = c**2\n",
        "else:\n",
        "    c+=2 # c = c+2\n",
        "c"
      ],
      "id": "d1e51f3b",
      "execution_count": null,
      "outputs": []
    },
    {
      "cell_type": "markdown",
      "metadata": {},
      "source": [
        "# Ciclos\n",
        "\n",
        "Los ciclos son bloques de código que se ejecutan iterativamente. En Python se usan las funciones **while** y **for** para llevar a cabo los ciclos, los cuales se ejecutan hasta que la condición especificada se cumpla. Las funciones while y for normalmente van acompañadas de un iterador conocida como contador y que se designa con la letra *i**, aunque en realidad puede ser cualquier otra letra."
      ],
      "id": "2c71e753"
    },
    {
      "cell_type": "code",
      "metadata": {},
      "source": [
        "i = 1\n",
        "\n",
        "while i<5:\n",
        "    print(i)\n",
        "    i+=1"
      ],
      "id": "ae758d3b",
      "execution_count": null,
      "outputs": []
    },
    {
      "cell_type": "markdown",
      "metadata": {},
      "source": [
        "Dentro de while existen los argumentos **break** y **continue** que permiten detener el ciclo aún cuando la condición se cumple o detener la iteración actual y continuar con la siguiente."
      ],
      "id": "8c79db87"
    },
    {
      "cell_type": "code",
      "metadata": {},
      "source": [
        "i = 5\n",
        "while i<10:\n",
        "    print(i)\n",
        "    if i==9:\n",
        "        break\n",
        "    i+=1"
      ],
      "id": "2a99be61",
      "execution_count": null,
      "outputs": []
    },
    {
      "cell_type": "code",
      "metadata": {},
      "source": [
        "i = 5\n",
        "while i<8:\n",
        "    i+=1\n",
        "    if i==7:\n",
        "        continue\n",
        "    print(i)"
      ],
      "id": "2ea9d0a9",
      "execution_count": null,
      "outputs": []
    },
    {
      "cell_type": "markdown",
      "metadata": {},
      "source": [
        "Los ciclos (loops) que utilizan **for** son probablemente los más utilizados en Python y sirven para iterar sobre una secuencia (p.e. un string, estructura de datos, etc). La sintaxis se leería de la siguiente manera:"
      ],
      "id": "8d55360e"
    },
    {
      "cell_type": "code",
      "metadata": {},
      "source": [
        "S=\"Buenos dias\"\n",
        "\n",
        "for i in S:\n",
        "    print(i)"
      ],
      "id": "f9156f38",
      "execution_count": null,
      "outputs": []
    },
    {
      "cell_type": "markdown",
      "metadata": {},
      "source": [
        "También se puede iterar sobre números. Para esto se puede utilizar la función range(). Recordar que en Python siempre se empieza en cero."
      ],
      "id": "5973c521"
    },
    {
      "cell_type": "code",
      "metadata": {},
      "source": [
        "for num in range(10):\n",
        "    print(num, num**2)"
      ],
      "id": "f1ddbac6",
      "execution_count": null,
      "outputs": []
    },
    {
      "cell_type": "markdown",
      "metadata": {},
      "source": [
        "# Funciones\n",
        "\n",
        "Las funciones son las estructuras esenciales de código en los lenguajes de programación. Constituyen un grupo de instrucciones para resolver un problema muy concreto.\n",
        "\n",
        "En Python, la definición de funciones se realiza mediante la instrucción **def** más un nombre descriptivo de la función, seguido de paréntesis y finalizando con dos puntos (:). El algoritmo que la compone, irá identado. Un parámetro es un valor que la función espera recibir a fin de ejecutar acciones específicas. Una función puede tener uno o más parámetros. La función es ejecutada hasta que sea invocada, es decir, llamada por su nombre, sea con **print()** o con **return()**."
      ],
      "id": "aaf1e324"
    },
    {
      "cell_type": "code",
      "metadata": {},
      "source": [
        "#| eval: false\n",
        "def Matarile(nombreviejo,nombrenuevo):\n",
        "    print('Usted ya no se llama %s, ha elegido llamarse %s.' %(nombreviejo,nombrenuevo))\n",
        "\n",
        "nombreviejo = input('Escriba su nombre: ')\n",
        "nombrenuevo = input('Escriba cómo quiere llamarse: ')\n",
        "\n",
        "Matarile(nombreviejo, nombrenuevo)"
      ],
      "id": "9ba79255",
      "execution_count": null,
      "outputs": []
    },
    {
      "cell_type": "markdown",
      "metadata": {},
      "source": [
        "# Librerías y Módulos\n",
        "\n",
        "Una de las principales características de Python es que dispone de diferentes tipos de librerías o bibliotecas. En síntesis, una librería responde al conjunto de funcionalidades que permiten al usuario llevar a cabo nuevas tareas que antes no se podían realizar. Cada una de las librerías disponen de diferentes módulos que son los que le otorgan funciones específicas. Python posee una gran cantidad de librerías útiles en diferentes campos como la visualización, cienca de datos, cálculos numéricos, bioinformática o inteligencia artificial.\n",
        "\n",
        "Algunas utilizadas en ciencia de datos:\n",
        "- Numpy\n",
        "- Pandas\n",
        "- Matplotlib\n",
        "- Seaborn"
      ],
      "id": "b00a0691"
    },
    {
      "cell_type": "code",
      "metadata": {},
      "source": [
        "import numpy\n",
        "import matplotlib.pyplot # se importa módulo pyplot dentro de matplotlib\n",
        "import numpy.random as npr"
      ],
      "id": "ae56ef7c",
      "execution_count": null,
      "outputs": []
    },
    {
      "cell_type": "markdown",
      "metadata": {},
      "source": [
        "# Manipulación de datos\n",
        "\n",
        "## Numpy\n",
        "\n",
        "**NumPy** (Numerical Python), es una biblioteca de Python que da soporte para crear vectores y matrices grandes multidimensionales, junto con una gran colección de funciones matemáticas de alto nivel. La funcionalidad principal de **NumPy** es su estructura de datos ndarray (arreglos), para una matriz de n dimensiones, sobre las cuales se pueden realizar operaciones matemátias de manera eficiente.\n",
        "\n",
        "Crearemos una lista usando código nativo de Python y lo convertiremos en una matriz unidimensional con la función np.array()"
      ],
      "id": "ba86c3d4"
    },
    {
      "cell_type": "code",
      "metadata": {},
      "source": [
        "import numpy as np\n",
        "\n",
        "list1 = [6,8,10,12]\n",
        "array1 = np.array(list1)\n",
        "print(array1)"
      ],
      "id": "39c4d7e7",
      "execution_count": null,
      "outputs": []
    },
    {
      "cell_type": "markdown",
      "metadata": {},
      "source": [
        "Los **ndarrays** son estructuras de datos genéricas para almacenar datos homogéneos. Son equivalentes a las matrices y los vectores en álgebra, por lo que también se les puede aplicar operaciones matemáticas. Notar que las operaciones matemáticas se pueden realizar en todos los valores en un ndarray a la vez."
      ],
      "id": "a8c90931"
    },
    {
      "cell_type": "code",
      "metadata": {},
      "source": [
        "print(array1 - 2)\n",
        "print(array1 * array1, \"\\n\\n\")"
      ],
      "id": "0bc20f34",
      "execution_count": null,
      "outputs": []
    },
    {
      "cell_type": "markdown",
      "metadata": {},
      "source": [
        "Los arreglos se encierran entre **[]**, pero al imprimirlos no están separados por comas. Hay diferentes formas de crear arreglos con propiedades específicas, lo que les provee bastante flexibilidad."
      ],
      "id": "007ac15e"
    },
    {
      "cell_type": "code",
      "metadata": {},
      "source": [
        "# Crea una matriz con datos específicos\n",
        "print(np.array([[1,2],[3,4]]),'\\n')\n",
        "# Crea una matriz con unos: tres filas y cuatro columnas\n",
        "print(np.ones((3,4)),'\\n')\n",
        "# Crea una matriz con ceros: tres filas y cuatro columnas\n",
        "print(np.zeros((3,4)),'\\n')\n",
        "# Crea una matriz con un dato específico: tres filas y cuatro columnas\n",
        "print(np.full((3,4), 7.3),'\\n')\n",
        "# Crea un arreglo con datos seguidos: empieza en 10 termina en 30(sin incluir) con incrementos de 5.\n",
        "print(np.arange(10,30,5),'\\n')\n",
        "# # Crea un arreglo con inicio y fin y una cantidad de datos: arreglo de 6 datos entre 0 y 5/3 .\n",
        "print(np.linspace(0,5/3,6),'\\n')\n",
        "# Crea una matriz con datos aleatorios entre 0 y 1: dos filas y tres columnas\n",
        "print(np.random.rand(2,3),'\\n')"
      ],
      "id": "55f4da83",
      "execution_count": null,
      "outputs": []
    },
    {
      "cell_type": "code",
      "metadata": {},
      "source": [
        "arr1 = np.array([np.arange(0,5), np.arange(0,5)*5])\n",
        "#Arreglo\n",
        "print(arr1, \"\\n\")\n",
        "# Forma\n",
        "print(arr1.shape, \"\\n\")\n",
        "# Tamaño\n",
        "print(arr1.size, \"\\n\")\n",
        "# Número de Dimensiones\n",
        "print(arr1.ndim, \"\\n\")\n",
        "# Transpuesta\n",
        "print(arr1.T, \"\\n\")"
      ],
      "id": "147deacf",
      "execution_count": null,
      "outputs": []
    },
    {
      "cell_type": "code",
      "metadata": {},
      "source": [
        "arr = np.array([1,2,3,4,5,6,7])\n",
        "# Porcionar\n",
        "print(arr[1:3])# de 1 al 3 en índice\n",
        "print(arr[4:])# de la posición 4 en adelante\n",
        "print(arr[::2])# de uno por medio"
      ],
      "id": "c64a163d",
      "execution_count": null,
      "outputs": []
    }
  ],
  "metadata": {
    "kernelspec": {
      "name": "python3",
      "language": "python",
      "display_name": "Python 3 (ipykernel)",
      "path": "/home/sylph/DataCantatio/ai-torch/share/jupyter/kernels/python3"
    }
  },
  "nbformat": 4,
  "nbformat_minor": 5
}