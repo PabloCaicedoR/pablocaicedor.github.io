{
  "cells": [
    {
      "cell_type": "markdown",
      "metadata": {},
      "source": [
        "---\n",
        "title: \"Computación de seno y coseno usando expansión de Taylor\"\n",
        "subtitle: \"Un ejemplo de clase\"\n",
        "description: \"Un ejemplo de clase del cálculo de una serie de Taylor sin uso de librerías especiales de Python -- En construcción --\"\n",
        "lang: es\n",
        "author: \"Ph.D. Pablo Eduardo Caicedo R.\"\n",
        "date: \"Febrero 6, 2023\"\n",
        "date-modified: \"Mayo 25, 2023\"\n",
        "image: \"../recursos/imagenes/tutoriales/taylor_expansion/taylor_expansion.jpg\"\n",
        "---\n",
        "\n",
        "Las ecuaciones de las expansiones de Taylor (centradas en cero) fueron extraídas de la recopilación que hizo [Wikipedia](https://es.wikipedia.org/wiki/Serie_de_Taylor)\n",
        "\n",
        "$$cos\\left(x\\right) = \\sum_{n=0}^{\\infty}{\\frac{x^{2n}}{2n!}\\left(-1\\right)^{n}}$$\n",
        "$$sin\\left(x\\right) = \\sum_{n=0}^{\\infty}{\\frac{\\left(-1\\right)^{n}}{\\left(2n+1\\right)!}x^{2n+1}}$$"
      ],
      "id": "48c51b81"
    },
    {
      "cell_type": "code",
      "metadata": {},
      "source": [
        "#| echo: true\n",
        "#| eval: true\n",
        "#| output: true\n",
        "\n",
        "def factorial(x):\n",
        "    output = 1\n",
        "    for k in range(1,x+1):\n",
        "        output = output*k\n",
        "    return output"
      ],
      "id": "66448317",
      "execution_count": null,
      "outputs": []
    },
    {
      "cell_type": "code",
      "metadata": {},
      "source": [
        "#| echo: true\n",
        "#| eval: true\n",
        "#| output: true\n",
        "\n",
        "def sin_taylor_expansion(x,n):\n",
        "    pi = 3.141592653589793238462643383279502884197169399375105820974944\n",
        "    x = pi*x/180\n",
        "    output = 0\n",
        "    for k in range(0, n):\n",
        "        term = (((-1)**k)/factorial(2*k + 1))*(x**(2*k+1))\n",
        "        output = output+term\n",
        "    return output"
      ],
      "id": "9214db76",
      "execution_count": null,
      "outputs": []
    },
    {
      "cell_type": "code",
      "metadata": {},
      "source": [
        "#| echo: true\n",
        "#| eval: true\n",
        "#| output: true\n",
        "\n",
        "v_est = sin_taylor_expansion(30,5)\n",
        "\n",
        "print(v_est)\n",
        "\n",
        "print(\"Error Relativo:\", abs(0.5-v_est)/0.5)"
      ],
      "id": "afd6c95c",
      "execution_count": null,
      "outputs": []
    }
  ],
  "metadata": {
    "kernelspec": {
      "display_name": "Python 3",
      "language": "python",
      "name": "python3"
    }
  },
  "nbformat": 4,
  "nbformat_minor": 5
}