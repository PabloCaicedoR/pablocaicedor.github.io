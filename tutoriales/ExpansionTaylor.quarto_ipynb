{
 "cells": [
  {
   "cell_type": "markdown",
   "id": "ab012b14",
   "metadata": {},
   "source": [
    "---\n",
    "title: \"Computación de seno y coseno usando expansión de Taylor\"\n",
    "subtitle: \"Un ejemplo de clase\"\n",
    "description: \"Un ejemplo de clase del cálculo de una serie de Taylor sin uso de librerías especiales de Python -- En construcción --\"\n",
    "lang: es\n",
    "author: \"Ph.D. Pablo Eduardo Caicedo R.\"\n",
    "date: \"Febrero 6, 2023\"\n",
    "date-modified: \"Mayo 25, 2023\"\n",
    "image: \"../recursos/imagenes/tutoriales/taylor_expansion/taylor_expansion.jpg\"\n",
    "---\n",
    "\n",
    "Las ecuaciones de las expansiones de Taylor (centradas en cero) fueron extraídas de la recopilación que hizo [Wikipedia](https://es.wikipedia.org/wiki/Serie_de_Taylor)\n",
    "\n",
    "$$cos\\left(x\\right) = \\sum_{n=0}^{\\infty}{\\frac{x^{2n}}{2n!}\\left(-1\\right)^{n}}$$\n",
    "$$sin\\left(x\\right) = \\sum_{n=0}^{\\infty}{\\frac{\\left(-1\\right)^{n}}{\\left(2n+1\\right)!}x^{2n+1}}$$"
   ]
  },
  {
   "cell_type": "code",
   "execution_count": 1,
   "id": "2da044fc",
   "metadata": {},
   "outputs": [],
   "source": [
    "#| echo: true\n",
    "#| eval: true\n",
    "#| output: true\n",
    "\n",
    "def factorial(x):\n",
    "    output = 1\n",
    "    for k in range(1,x+1):\n",
    "        output = output*k\n",
    "    return output"
   ]
  },
  {
   "cell_type": "code",
   "execution_count": 2,
   "id": "27900f77",
   "metadata": {},
   "outputs": [],
   "source": [
    "#| echo: true\n",
    "#| eval: true\n",
    "#| output: true\n",
    "\n",
    "def sin_taylor_expansion(x,n):\n",
    "    pi = 3.141592653589793238462643383279502884197169399375105820974944\n",
    "    x = pi*x/180\n",
    "    output = 0\n",
    "    for k in range(0, n):\n",
    "        term = (((-1)**k)/factorial(2*k + 1))*(x**(2*k+1))\n",
    "        output = output+term\n",
    "    return output"
   ]
  },
  {
   "cell_type": "code",
   "execution_count": 3,
   "id": "c96968b4",
   "metadata": {},
   "outputs": [
    {
     "name": "stdout",
     "output_type": "stream",
     "text": [
      "0.5000000000202799\n",
      "Error Relativo: 4.0559777758630844e-11\n"
     ]
    }
   ],
   "source": [
    "#| echo: true\n",
    "#| eval: true\n",
    "#| output: true\n",
    "\n",
    "v_est = sin_taylor_expansion(30,5)\n",
    "\n",
    "print(v_est)\n",
    "\n",
    "print(\"Error Relativo:\", abs(0.5-v_est)/0.5)"
   ]
  }
 ],
 "metadata": {
  "kernelspec": {
   "display_name": "Python 3 (ipykernel)",
   "language": "python",
   "name": "python3",
   "path": "/home/sylph/DataCantatio/ai-torch/share/jupyter/kernels/python3"
  },
  "language_info": {
   "codemirror_mode": {
    "name": "ipython",
    "version": 3
   },
   "file_extension": ".py",
   "mimetype": "text/x-python",
   "name": "python",
   "nbconvert_exporter": "python",
   "pygments_lexer": "ipython3",
   "version": "3.12.11"
  }
 },
 "nbformat": 4,
 "nbformat_minor": 5
}
