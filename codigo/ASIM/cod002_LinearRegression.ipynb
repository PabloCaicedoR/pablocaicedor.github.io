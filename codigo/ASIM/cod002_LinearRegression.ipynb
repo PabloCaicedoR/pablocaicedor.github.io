{
 "cells": [
  {
   "cell_type": "code",
   "execution_count": 8,
   "metadata": {},
   "outputs": [
    {
     "data": {
      "text/plain": [
       "array([[0.5488135 ],\n",
       "       [0.71518937],\n",
       "       [0.60276338],\n",
       "       [0.54488318],\n",
       "       [0.4236548 ],\n",
       "       [0.64589411],\n",
       "       [0.43758721],\n",
       "       [0.891773  ],\n",
       "       [0.96366276],\n",
       "       [0.38344152],\n",
       "       [0.79172504],\n",
       "       [0.52889492],\n",
       "       [0.56804456],\n",
       "       [0.92559664],\n",
       "       [0.07103606],\n",
       "       [0.0871293 ],\n",
       "       [0.0202184 ],\n",
       "       [0.83261985],\n",
       "       [0.77815675],\n",
       "       [0.87001215],\n",
       "       [0.97861834],\n",
       "       [0.79915856],\n",
       "       [0.46147936],\n",
       "       [0.78052918],\n",
       "       [0.11827443],\n",
       "       [0.63992102],\n",
       "       [0.14335329],\n",
       "       [0.94466892],\n",
       "       [0.52184832],\n",
       "       [0.41466194],\n",
       "       [0.26455561],\n",
       "       [0.77423369],\n",
       "       [0.45615033],\n",
       "       [0.56843395],\n",
       "       [0.0187898 ],\n",
       "       [0.6176355 ],\n",
       "       [0.61209572],\n",
       "       [0.616934  ],\n",
       "       [0.94374808],\n",
       "       [0.6818203 ],\n",
       "       [0.3595079 ],\n",
       "       [0.43703195],\n",
       "       [0.6976312 ],\n",
       "       [0.06022547],\n",
       "       [0.66676672],\n",
       "       [0.67063787],\n",
       "       [0.21038256],\n",
       "       [0.1289263 ],\n",
       "       [0.31542835],\n",
       "       [0.36371077],\n",
       "       [0.57019677],\n",
       "       [0.43860151],\n",
       "       [0.98837384],\n",
       "       [0.10204481],\n",
       "       [0.20887676],\n",
       "       [0.16130952],\n",
       "       [0.65310833],\n",
       "       [0.2532916 ],\n",
       "       [0.46631077],\n",
       "       [0.24442559],\n",
       "       [0.15896958],\n",
       "       [0.11037514],\n",
       "       [0.65632959],\n",
       "       [0.13818295],\n",
       "       [0.19658236],\n",
       "       [0.36872517],\n",
       "       [0.82099323],\n",
       "       [0.09710128],\n",
       "       [0.83794491],\n",
       "       [0.09609841],\n",
       "       [0.97645947],\n",
       "       [0.4686512 ],\n",
       "       [0.97676109],\n",
       "       [0.60484552],\n",
       "       [0.73926358],\n",
       "       [0.03918779],\n",
       "       [0.28280696],\n",
       "       [0.12019656],\n",
       "       [0.2961402 ],\n",
       "       [0.11872772],\n",
       "       [0.31798318],\n",
       "       [0.41426299],\n",
       "       [0.0641475 ],\n",
       "       [0.69247212],\n",
       "       [0.56660145],\n",
       "       [0.26538949],\n",
       "       [0.52324805],\n",
       "       [0.09394051],\n",
       "       [0.5759465 ],\n",
       "       [0.9292962 ],\n",
       "       [0.31856895],\n",
       "       [0.66741038],\n",
       "       [0.13179786],\n",
       "       [0.7163272 ],\n",
       "       [0.28940609],\n",
       "       [0.18319136],\n",
       "       [0.58651293],\n",
       "       [0.02010755],\n",
       "       [0.82894003],\n",
       "       [0.00469548]])"
      ]
     },
     "execution_count": 8,
     "metadata": {},
     "output_type": "execute_result"
    }
   ],
   "source": [
    "import torch\n",
    "import torch.nn as nn\n",
    "import numpy as np\n",
    "\n",
    "# Generate some random data\n",
    "np.random.seed(0)\n",
    "X = np.random.rand(100,1)\n",
    "y = 3 + 2 * X + np.random.randn(100,1) / 1.5\n",
    "X"
   ]
  },
  {
   "cell_type": "code",
   "execution_count": 9,
   "metadata": {},
   "outputs": [
    {
     "name": "stdout",
     "output_type": "stream",
     "text": [
      "Epoch 1, Loss: 17.11027717590332\n",
      "Epoch 101, Loss: 0.5529825687408447\n",
      "Epoch 201, Loss: 0.4432789981365204\n",
      "Epoch 301, Loss: 0.44221213459968567\n",
      "Epoch 401, Loss: 0.4419429302215576\n",
      "Epoch 501, Loss: 0.4417407214641571\n",
      "Epoch 601, Loss: 0.44158604741096497\n",
      "Epoch 701, Loss: 0.44146785140037537\n",
      "Epoch 801, Loss: 0.4413774013519287\n",
      "Epoch 901, Loss: 0.4413083791732788\n",
      "Learned parameters:\n",
      "Weight: 1.91282320022583\n",
      "Bias: 3.170973062515259\n"
     ]
    }
   ],
   "source": [
    "\n",
    "# Convert data to PyTorch tensors\n",
    "X_tensor = torch.from_numpy(X.astype(np.float32))\n",
    "y_tensor = torch.from_numpy(y.astype(np.float32))\n",
    "\n",
    "\n",
    "# Define the linear regression model\n",
    "class LinearRegression(nn.Module):\n",
    "    def __init__(self):\n",
    "        super(LinearRegression, self).__init__()\n",
    "        self.linear = nn.Linear(1, 1)\n",
    "\n",
    "    def forward(self, x):\n",
    "        return self.linear(x)\n",
    "\n",
    "\n",
    "# Initialize the model, loss function, and optimizer\n",
    "model = LinearRegression()\n",
    "criterion = nn.MSELoss()\n",
    "optimizer = torch.optim.SGD(model.parameters(), lr=0.01)\n",
    "\n",
    "# Train the model\n",
    "for epoch in range(1000):\n",
    "    optimizer.zero_grad()\n",
    "    outputs = model(X_tensor)\n",
    "    loss = criterion(outputs, y_tensor)\n",
    "    loss.backward()\n",
    "    optimizer.step()\n",
    "\n",
    "    if epoch % 100 == 0:\n",
    "        print(f\"Epoch {epoch+1}, Loss: {loss.item()}\")\n",
    "\n",
    "# Print the learned parameters\n",
    "\n",
    "m = model.linear.weight.item()\n",
    "b = model.linear.bias.item()\n",
    "\n",
    "print(\"Learned parameters:\")\n",
    "print(\"Weight:\", m)\n",
    "print(\"Bias:\", b )"
   ]
  },
  {
   "cell_type": "code",
   "execution_count": 10,
   "metadata": {},
   "outputs": [
    {
     "data": {
      "text/plain": [
       "[<matplotlib.lines.Line2D at 0x7f6d6f04f8c0>]"
      ]
     },
     "execution_count": 10,
     "metadata": {},
     "output_type": "execute_result"
    },
    {
     "data": {
      "image/png": "[encoded data removed]",
      "text/plain": [
       "<Figure size 640x480 with 1 Axes>"
      ]
     },
     "metadata": {},
     "output_type": "display_data"
    }
   ],
   "source": [
    "import matplotlib.pyplot as plt\n",
    "\n",
    "t = np.linspace(0 , 1, 200)\n",
    "fig001 = plt.figure()\n",
    "plt.plot(t, m*t+b)\n",
    "plt.plot(X, y, 'r*')"
   ]
  }
 ],
 "metadata": {
  "kernelspec": {
   "display_name": "Python 3",
   "language": "python",
   "name": "python3"
  },
  "language_info": {
   "codemirror_mode": {
    "name": "ipython",
    "version": 3
   },
   "file_extension": ".py",
   "mimetype": "text/x-python",
   "name": "python",
   "nbconvert_exporter": "python",
   "pygments_lexer": "ipython3",
   "version": "3.12.4"
  }
 },
 "nbformat": 4,
 "nbformat_minor": 2
}
