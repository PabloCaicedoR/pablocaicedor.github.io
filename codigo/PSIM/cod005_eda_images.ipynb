{
 "cells": [
  {
   "cell_type": "code",
   "execution_count": 1,
   "id": "1e8cd5d2",
   "metadata": {},
   "outputs": [],
   "source": [
    "import cv2\n",
    "import matplotlib.pyplot as plt\n",
    "import numpy as np"
   ]
  },
  {
   "cell_type": "code",
   "execution_count": 3,
   "id": "3a59eb92",
   "metadata": {},
   "outputs": [],
   "source": [
    "imagen = cv2.imread(\"../../data/female-chest-x-ray.jpg\")"
   ]
  },
  {
   "cell_type": "code",
   "execution_count": 4,
   "id": "06318d16",
   "metadata": {},
   "outputs": [],
   "source": [
    "iBlue = imagen[:,:,0]\n",
    "iGreen = imagen[:, :, 1]\n",
    "iRed = imagen[:, :, 2]"
   ]
  },
  {
   "cell_type": "code",
   "execution_count": null,
   "id": "7e663890",
   "metadata": {},
   "outputs": [
    {
     "data": {
      "text/plain": [
       "800000"
      ]
     },
     "execution_count": 12,
     "metadata": {},
     "output_type": "execute_result"
    }
   ],
   "source": [
    "b = 8\n",
    "inp01 = iBlue\n",
    "\n",
    "for k in range(256)"
   ]
  }
 ],
 "metadata": {
  "kernelspec": {
   "display_name": "ai-torch (3.12.11)",
   "language": "python",
   "name": "python3"
  },
  "language_info": {
   "codemirror_mode": {
    "name": "ipython",
    "version": 3
   },
   "file_extension": ".py",
   "mimetype": "text/x-python",
   "name": "python",
   "nbconvert_exporter": "python",
   "pygments_lexer": "ipython3",
   "version": "3.12.11"
  }
 },
 "nbformat": 4,
 "nbformat_minor": 5
}
